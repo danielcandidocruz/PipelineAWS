{
  "nbformat": 4,
  "nbformat_minor": 0,
  "metadata": {
    "colab": {
      "provenance": [],
      "authorship_tag": "ABX9TyOgozs4W8dx+9mnllxrXV1V",
      "include_colab_link": true
    },
    "kernelspec": {
      "name": "python3",
      "display_name": "Python 3"
    },
    "language_info": {
      "name": "python"
    }
  },
  "cells": [
    {
      "cell_type": "markdown",
      "metadata": {
        "id": "view-in-github",
        "colab_type": "text"
      },
      "source": [
        "<a href=\"https://colab.research.google.com/github/danielcandidocruz/PipelineAWS/blob/main/ConfigS3aws.ipynb\" target=\"_parent\"><img src=\"https://colab.research.google.com/assets/colab-badge.svg\" alt=\"Open In Colab\"/></a>"
      ]
    },
    {
      "cell_type": "code",
      "execution_count": null,
      "metadata": {
        "id": "Ak0us8-PUN9s"
      },
      "outputs": [],
      "source": [
        "import urllib.request"
      ]
    },
    {
      "cell_type": "code",
      "source": [
        "def extract_data(url, filename):\n",
        "    try:\n",
        "        urllib.request.urlretrieve(url, filename)\n",
        "    except Exception as e:\n",
        "        print(e)"
      ],
      "metadata": {
        "id": "qBzMYIxpUW5R"
      },
      "execution_count": null,
      "outputs": []
    },
    {
      "cell_type": "code",
      "source": [
        "extract_data(\"https://data.boston.gov/dataset/8048697b-ad64-4bfc-b090-ee00169f2323/resource/c9509ab4-6f6d-4b97-979a-0cf2a10c922b/download/311_service_requests_2015.csv\", \"data/dados_2015.csv\")\n",
        "extract_data(\"https://data.boston.gov/dataset/8048697b-ad64-4bfc-b090-ee00169f2323/resource/b7ea6b1b-3ca4-4c5b-9713-6dc1db52379a/download/311_service_requests_2016.csv\", \"data/dados_2016.csv\")\n",
        "extract_data(\"https://data.boston.gov/dataset/8048697b-ad64-4bfc-b090-ee00169f2323/resource/30022137-709d-465e-baae-ca155b51927d/download/311_service_requests_2017.csv\", \"data/dados_2017.csv\")\n",
        "extract_data(\"https://data.boston.gov/dataset/8048697b-ad64-4bfc-b090-ee00169f2323/resource/2be28d90-3a90-4af1-a3f6-f28c1e25880a/download/311_service_requests_2018.csv\", \"data/dados_2018.csv\")\n",
        "extract_data(\"https://data.boston.gov/dataset/8048697b-ad64-4bfc-b090-ee00169f2323/resource/ea2e4696-4a2d-429c-9807-d02eb92e0222/download/311_service_requests_2019.csv\", \"data/dados_2019.csv\")\n",
        "extract_data(\"https://data.boston.gov/dataset/8048697b-ad64-4bfc-b090-ee00169f2323/resource/6ff6a6fd-3141-4440-a880-6f60a37fe789/download/script_105774672_20210108153400_combine.csv\", \"data/dados_2020.csv\")\n"
      ],
      "metadata": {
        "id": "MKxikxu5Udcf"
      },
      "execution_count": null,
      "outputs": []
    },
    {
      "cell_type": "code",
      "source": [
        "arquivos = [\n",
        "    \"data/dados_2015.csv\",\n",
        "    \"data/dados_2016.csv\",\n",
        "    \"data/dados_2017.csv\",\n",
        "    \"data/dados_2018.csv\",\n",
        "    \"data/dados_2019.csv\",\n",
        "    \"data/dados_2020.csv\",\n",
        "]"
      ],
      "metadata": {
        "id": "sT4zsBbtUf9_"
      },
      "execution_count": null,
      "outputs": []
    },
    {
      "cell_type": "code",
      "source": [
        "import pandas as pd"
      ],
      "metadata": {
        "id": "NQyYqeAvUiVg"
      },
      "execution_count": null,
      "outputs": []
    },
    {
      "cell_type": "code",
      "source": [
        "for arquivo in arquivos:\n",
        "    ano = arquivo.split(\"_\")[-1].split(\".\")[0]\n",
        "    dfs[ano] = pd.read_csv(arquivo)"
      ],
      "metadata": {
        "id": "oKXYEtq3UkvU"
      },
      "execution_count": null,
      "outputs": []
    },
    {
      "cell_type": "code",
      "source": [
        "dfs[\"2018\"].head()"
      ],
      "metadata": {
        "id": "jlLOVLC-Um4v"
      },
      "execution_count": null,
      "outputs": []
    },
    {
      "cell_type": "code",
      "source": [
        "import boto3"
      ],
      "metadata": {
        "id": "BbQWsOXLUo13"
      },
      "execution_count": null,
      "outputs": []
    },
    {
      "cell_type": "code",
      "source": [
        "aws_access_key_id = \"\"\n",
        "aws_secret_access_key = \"\"\n",
        "region_name = \"us-east-1\""
      ],
      "metadata": {
        "id": "qwRauxCvUrkH"
      },
      "execution_count": null,
      "outputs": []
    },
    {
      "cell_type": "code",
      "source": [
        "boto3.setup_default_session(\n",
        "    aws_access_key_id = aws_access_key_id,\n",
        "    aws_secret_access_key = aws_secret_access_key,\n",
        "    region_name = region_name,\n",
        ")"
      ],
      "metadata": {
        "id": "PctIlHv0UsbA"
      },
      "execution_count": null,
      "outputs": []
    },
    {
      "cell_type": "code",
      "source": [
        "import boto3"
      ],
      "metadata": {
        "id": "VC885_7ZUt_n"
      },
      "execution_count": null,
      "outputs": []
    },
    {
      "cell_type": "code",
      "source": [
        "s3 = boto3.client(\"s3\")"
      ],
      "metadata": {
        "id": "7Z_OUVm7UyPZ"
      },
      "execution_count": null,
      "outputs": []
    },
    {
      "cell_type": "code",
      "source": [
        "content = \"\"\"\n",
        "S3!\n",
        "\"\"\""
      ],
      "metadata": {
        "id": "Z0fmuDQoU1Cu"
      },
      "execution_count": null,
      "outputs": []
    },
    {
      "cell_type": "code",
      "source": [
        "with open(\"main-s3.txt\", \"w+\") as f:\n",
        "    f.write(content)"
      ],
      "metadata": {
        "id": "lde90iRhU3Cv"
      },
      "execution_count": null,
      "outputs": []
    },
    {
      "cell_type": "code",
      "source": [
        "s3.upload_file(\"main-s3.txt\", \"dats-datalakeaws\", \"bronze/main-s3\")"
      ],
      "metadata": {
        "id": "0C9TmdPPU4cO"
      },
      "execution_count": null,
      "outputs": []
    },
    {
      "cell_type": "code",
      "source": [
        "from io import BytesIO"
      ],
      "metadata": {
        "id": "y1I66-zkU7sW"
      },
      "execution_count": null,
      "outputs": []
    },
    {
      "cell_type": "code",
      "source": [
        "from io import BytesIO\n",
        "\n",
        "\n",
        "for ano, df in dfs.items():\n",
        "\n",
        "    parquet_buffer = BytesIO()\n",
        "    df.to_parquet(parquet_buffer)\n",
        "\n",
        "    s3.put_object(\n",
        "        Bucket=\"alura-datalakeaws\",\n",
        "        Key=f\"bronze/dados_{ano}.parquet\",\n",
        "        Body=parquet_buffer.getvalue(),\n",
        "    )"
      ],
      "metadata": {
        "id": "gln8ieD_VBk_"
      },
      "execution_count": null,
      "outputs": []
    },
    {
      "cell_type": "code",
      "source": [
        "response = s3.list_objects(Bucket=\"alura-datalakeaws\")"
      ],
      "metadata": {
        "id": "989e4N1mVDpT"
      },
      "execution_count": null,
      "outputs": []
    },
    {
      "cell_type": "code",
      "source": [
        "keys = [obj[\"Key\"] for obj in response[\"Contents\"]]\n",
        "print(keys)"
      ],
      "metadata": {
        "id": "03LGbvzdVJkd"
      },
      "execution_count": null,
      "outputs": []
    },
    {
      "cell_type": "code",
      "source": [
        "!mkdir -p data"
      ],
      "metadata": {
        "id": "40Xwcz7_VKU1"
      },
      "execution_count": null,
      "outputs": []
    },
    {
      "cell_type": "code",
      "source": [
        "import urllib.request\n",
        "#Módulo utilizado para fazer o download de dados de uma url\n",
        "\n",
        "# Função para baixar dados de um URL e salvar em um arquivo\n",
        "def extract_data(url, filename): #Parâmetros da função que espera 2 argumentos\n",
        "    try:\n",
        "        urllib.request.urlretrieve(url, filename)\n",
        "        # Baixa o arquivo do URL e salva no local especificado\n",
        "    except Exception as e:\n",
        "        print(e) # Imprime qualquer erro que ocorra durante o processo"
      ],
      "metadata": {
        "id": "UV6eKECDVpNi"
      },
      "execution_count": null,
      "outputs": []
    },
    {
      "cell_type": "code",
      "source": [
        "# Chamando a função extract_data para baixar diferentes conjuntos de dados\n",
        "# Cada conjunto de dados é salvo em um arquivo CSV diferente\n",
        "extract_data(\"https://data.boston.gov/dataset/8846b97b-a46d-4bfc-b9a9-ee00169f2323/resource/05e9bab4-6fc4-4b97-979a-0cf4a1c02c9b/download/311_service_requests_2015.csv\", \"data/dados_2015.csv\")\n",
        "extract_data(\"https://data.boston.gov/dataset/8846b97b-a46d-4bfc-b9a9-ee00169f2323/resource/b7eacb1a-3ca4-4cb5-9713-cd1dcb5d297a/download/311_service_requests_2016.csv\", \"data/dados_2016.csv\")\n",
        "extract_data(\"https://data.boston.gov/dataset/8846b97b-a46d-4bfc-b9a9-ee00169f2323/resource/30021317-709d-465e-baa6-ca155b5197ed/download/311_service_requests_2017.csv\", \"data/dados_2017.csv\")\n",
        "extract_data(\"https://data.boston.gov/dataset/8846b97b-a46d-4bfc-b9a9-ee00169f2323/resource/2be349b0-349a-4c1f-a3f6-f2c18e58288a/download/311_service_requests_2018.csv\", \"data/dados_2018.csv\")\n",
        "extract_data(\"https://data.boston.gov/dataset/8846b97b-a46d-4bfc-b9a9-ee00169f2323/resource/e2e4a696-4a24-429c-9870-dbe92ebe6222/download/311_service_requests_2019.csv\", \"data/dados_2019.csv\")\n",
        "extract_data(\"https://data.boston.gov/dataset/8846b97b-a46d-4bfc-b9a9-ee00169f2323/resource/6ff6afd6-3141-44aa-8880-66aa3f7e78b9/download/script_105774672_20210108153400_combine.csv\", \"data/combine.csv\")"
      ],
      "metadata": {
        "id": "AaTcx7G4VsTU"
      },
      "execution_count": null,
      "outputs": []
    },
    {
      "cell_type": "code",
      "source": [
        "# Lista dos nomes dos arquivos baixados\n",
        "arquivos = [\n",
        "    \"data/dado_2015.csv\",\n",
        "    \"data/dado_2016.csv\",\n",
        "    \"data/dado_2017.csv\",\n",
        "    \"data/dado_2018.csv\",\n",
        "    \"data/dado_2019.csv\",\n",
        "    \"data/dado_2020.csv\",\n",
        "]"
      ],
      "metadata": {
        "id": "oBs6c70IVt9L"
      },
      "execution_count": null,
      "outputs": []
    },
    {
      "cell_type": "code",
      "source": [
        "# Dicionário para armazenar os dados de cada arquivo\n",
        "dfs = {}"
      ],
      "metadata": {
        "id": "N1NujXQpVwo7"
      },
      "execution_count": null,
      "outputs": []
    },
    {
      "cell_type": "code",
      "source": [
        "import pandas as pd\n",
        "\n",
        "# Loop para ler cada arquivo e adicionar ao dicionário\n",
        "for arquivo in arquivos:\n",
        "    ano = arquivo.split(\"_\")[-1].split(\".\")[0]  # Extrai o ano do nome do arquivo\n",
        "    df[ano] = pd.read_csv(arquivo)\n",
        "    # Lê os dados do arquivo transforma em DataFrame e armazena no dicionário"
      ],
      "metadata": {
        "id": "FqQgplNYVzvs"
      },
      "execution_count": null,
      "outputs": []
    },
    {
      "cell_type": "code",
      "source": [
        "# Exemplo de como acessar os dados de um ano específico\n",
        "dfs[\"2018\"].head()"
      ],
      "metadata": {
        "id": "fNvbEOJGV1Vr"
      },
      "execution_count": null,
      "outputs": []
    },
    {
      "cell_type": "code",
      "source": [
        "pip install boto3"
      ],
      "metadata": {
        "id": "dNUlBU7xV3QL"
      },
      "execution_count": null,
      "outputs": []
    },
    {
      "cell_type": "code",
      "source": [
        "import boto3\n",
        "\n",
        "# IMPORTANTE: Essas credenciais não podem aparecer no seu código, coloque em variáveis de ambiente\n",
        "# exemplo: aws_access_key_id = os.environ['AWS_ACCESS_KEY_ID']\n",
        "\n",
        "# TODO: Substituir 'aws_access_key_id' e 'aws_secret_access_key' pelas informações da sua conta\n",
        "\n",
        "aws_access_key_id = \"-**************\"\n",
        "aws_secret_access_key = \"******************\"\n",
        "region_name = \"us-east-1\"\n",
        "\n",
        "boto3.setup_default_session(\n",
        "    aws_access_key_id=aws_access_key_id,\n",
        "    aws_secret_access_key=aws_secret_access_key,\n",
        "    region_name=region_name,\n",
        ")\n",
        "\n",
        "# Criação de um cliente S3\n",
        "s3 = boto3.client(\"s3\")"
      ],
      "metadata": {
        "id": "sr-VBUEBV5Sb"
      },
      "execution_count": null,
      "outputs": []
    },
    {
      "cell_type": "code",
      "source": [
        "content = \"\"\"\n",
        "desert, S3!\n",
        "\"\"\"\n",
        "\n",
        "with open(\"desert.txt\", \"w+\") as f:\n",
        "    f.write(content)"
      ],
      "metadata": {
        "id": "R-ygG4BhV8tV"
      },
      "execution_count": null,
      "outputs": []
    },
    {
      "cell_type": "code",
      "source": [
        "s3.upload_file(\"main-s3.txt\", \"dats-datalakeaws\", \"bronze/main-s3\")"
      ],
      "metadata": {
        "id": "ZCyjs5hqV-Wr"
      },
      "execution_count": null,
      "outputs": []
    },
    {
      "cell_type": "code",
      "source": [
        "from io import BytesIO\n",
        "\n",
        "for ano, df in dfs.items():\n",
        "    parquet_buffer = BytesIO()\n",
        "    df.to_parquet(parquet_buffer)\n",
        "\n",
        "    s3.put_object(\n",
        "        Bucket=\"dats-datalakeaws\",\n",
        "        Key=f\"bronze/dados_{ano}.parquet\",\n",
        "        Body=parquet_buffer.getvalue(),\n",
        "    )"
      ],
      "metadata": {
        "id": "6j_CxoVCWDu7"
      },
      "execution_count": null,
      "outputs": []
    },
    {
      "cell_type": "code",
      "source": [
        "# Obtendo a lista de objetos do bucket\n",
        "response = s3.list_objects(Bucket=\"dats-datalakeaws\")"
      ],
      "metadata": {
        "id": "2bYBuWvoWEVz"
      },
      "execution_count": null,
      "outputs": []
    },
    {
      "cell_type": "code",
      "source": [
        "# Obtendo a lista de chaves dos objetos do bucket\n",
        "keys = [obj[\"Key\"] for obj in response[\"Contents\"]]\n",
        "print(keys)  # Imprime a lista de chaves"
      ],
      "metadata": {
        "id": "JcapHaiTWGLK"
      },
      "execution_count": null,
      "outputs": []
    },
    {
      "cell_type": "code",
      "source": [
        "['bronze/', 'bronze/dados_2015.parquet', 'bronze/dados_2016.parquet', 'bronze/dados_2017.parquet', 'bronze/dados_2018.parquet', 'bronze/dados_2019.parquet', 'bronze/dados_2020.parquet', 'bronze/hello-s3', 'silver/']"
      ],
      "metadata": {
        "id": "meoH2uM_WHt7"
      },
      "execution_count": null,
      "outputs": []
    },
    {
      "cell_type": "code",
      "source": [
        "[\n",
        "    {\"Name\": \"case_enquiry_id\", \"Type\": \"bigint\"},\n",
        "    {\"Name\": \"open_dt\", \"Type\": \"timestamp\"},\n",
        "    {\"Name\": \"target_dt\", \"Type\": \"timestamp\"},\n",
        "    {\"Name\": \"closed_dt\", \"Type\": \"timestamp\"},\n",
        "    {\"Name\": \"ontime\", \"Type\": \"string\"},\n",
        "    {\"Name\": \"case_status\", \"Type\": \"string\"},\n",
        "    {\"Name\": \"case_title\", \"Type\": \"string\"},\n",
        "    {\"Name\": \"subject\", \"Type\": \"string\"},\n",
        "    {\"Name\": \"reason\", \"Type\": \"string\"},\n",
        "    {\"Name\": \"type\", \"Type\": \"string\"},\n",
        "    {\"Name\": \"queue\", \"Type\": \"string\"},\n",
        "    {\"Name\": \"department\", \"Type\": \"string\"},\n",
        "    {\"Name\": \"submittedphoto\", \"Type\": \"string\"},\n",
        "    {\"Name\": \"closedphoto\", \"Type\": \"string\"},\n",
        "    {\"Name\": \"location\", \"Type\": \"string\"},\n",
        "    {\"Name\": \"fire_district\", \"Type\": \"string\"},\n",
        "    {\"Name\": \"pwd_district\", \"Type\": \"string\"},\n",
        "    {\"Name\": \"city_council_district\", \"Type\": \"string\"},\n",
        "    {\"Name\": \"police_district\", \"Type\": \"string\"},\n",
        "    {\"Name\": \"neighborhood\", \"Type\": \"string\"},\n",
        "    {\"Name\": \"neighborhood_services_district\", \"Type\": \"string\"},\n",
        "    {\"Name\": \"ward\", \"Type\": \"string\"},\n",
        "    {\"Name\": \"precinct\", \"Type\": \"string\"},\n",
        "    {\"Name\": \"location_street_name\", \"Type\": \"string\"},\n",
        "    {\"Name\": \"location_zipcode\", \"Type\": \"string\"},\n",
        "    {\"Name\": \"latitude\", \"Type\": \"string\"},\n",
        "    {\"Name\": \"longitude\", \"Type\": \"string\"},\n",
        "    {\"Name\": \"source\", \"Type\": \"string\"},\n",
        "    {\"Name\": \"closure_reason_normalized\", \"Type\": \"string\"},\n",
        "    {\"Name\": \"duration_hours\", \"Type\": \"double\"}\n",
        "]"
      ],
      "metadata": {
        "id": "3F1WF15TWJR-"
      },
      "execution_count": null,
      "outputs": []
    },
    {
      "cell_type": "code",
      "source": [
        "s3://alura-datalakeaws/silver/"
      ],
      "metadata": {
        "id": "hUW5mPUyWcfr"
      },
      "execution_count": null,
      "outputs": []
    },
    {
      "cell_type": "code",
      "source": [
        "{\n",
        "  \"Version\": \"2012-10-17\",\n",
        "  \"Statement\": [\n",
        "    {\n",
        "      \"Effect\": \"Allow\",\n",
        "      \"Action\": [\n",
        "        \"s3:GetObject\",\n",
        "        \"s3:PutObject\"\n",
        "      ],\n",
        "      \"Resource\": [\n",
        "        \"arn:aws:s3:::alura-datalakeaws/bronze/*\"\n",
        "      ]\n",
        "    }\n",
        "  ]\n",
        "}"
      ],
      "metadata": {
        "id": "fKxlvSh6WgJ6"
      },
      "execution_count": null,
      "outputs": []
    },
    {
      "cell_type": "code",
      "source": [
        "\"arn:aws:s3:::alura-datalakeaws/*\""
      ],
      "metadata": {
        "id": "27gNKJS5WiwB"
      },
      "execution_count": null,
      "outputs": []
    },
    {
      "cell_type": "code",
      "source": [
        "{\n",
        "  \"Version\": \"2012-10-17\",\n",
        "  \"Statement\": [\n",
        "    {\n",
        "      \"Effect\": \"Allow\",\n",
        "      \"Action\": [\n",
        "        \"s3:GetObject\",\n",
        "        \"s3:PutObject\"\n",
        "      ],\n",
        "      \"Resource\": [\n",
        "        \"arn:aws:s3:::alura-datalakeaws/*\"\n",
        "      ]\n",
        "    }\n",
        "  ]\n",
        "}"
      ],
      "metadata": {
        "id": "LFE82SyfWkNr"
      },
      "execution_count": null,
      "outputs": []
    },
    {
      "cell_type": "code",
      "source": [
        "Case Closed. Closed date : 2015-05-11 18:53:24.1 Case Resolved Repaired water main 1/1/15"
      ],
      "metadata": {
        "id": "rrMV5bWgWl1x"
      },
      "execution_count": null,
      "outputs": []
    },
    {
      "cell_type": "code",
      "source": [
        "^Case Closed\\. Closed date : 2015-05-11 18:53:24\\.1(\\s([A-Za-z]+\\s)+)1/1/15$"
      ],
      "metadata": {
        "id": "zJLQ1TifWpbR"
      },
      "execution_count": null,
      "outputs": []
    },
    {
      "cell_type": "code",
      "source": [
        "select tb_1.*,"
      ],
      "metadata": {
        "id": "OR0Bt7Y4WuGC"
      },
      "execution_count": null,
      "outputs": []
    },
    {
      "cell_type": "code",
      "source": [
        "select tb_1.*,\n",
        "unix_timestamp(closed_dt)-unix_timestamp(open_dt)"
      ],
      "metadata": {
        "id": "Q2JdSRDaWzPs"
      },
      "execution_count": null,
      "outputs": []
    },
    {
      "cell_type": "code",
      "source": [
        "select tb_1.*,\n",
        "round((unix_timestamp(closed_dt)-unix_timestamp(open_dt))/3600,0) AS duration_hours\n",
        "from tb_1"
      ],
      "metadata": {
        "id": "utRYrGBeW0QB"
      },
      "execution_count": null,
      "outputs": []
    },
    {
      "cell_type": "code",
      "source": [
        "SELECT FROM \"alura-datalakeaws\". \"bronze\"\n",
        "where department <> 'PARK'\n",
        "limit 10;"
      ],
      "metadata": {
        "id": "Vi8NrqgHW4Gx"
      },
      "execution_count": null,
      "outputs": []
    },
    {
      "cell_type": "code",
      "source": [
        "SELECT FROM \"dats-datalakeaws\".\"silver\" limit 10;"
      ],
      "metadata": {
        "id": "VPRqSbdoW94K"
      },
      "execution_count": null,
      "outputs": []
    },
    {
      "cell_type": "code",
      "source": [
        "[\n",
        "  {\n",
        "    \"Name\": \"case_enquiry_id\",\n",
        "    \"Type\": \"long\",\n",
        "    \"Comment\": \"Identificador único para cada caso de consulta\"\n",
        "  },\n",
        "  {\n",
        "    \"Name\": \"open_dt\",\n",
        "    \"Type\": \"timestamp\",\n",
        "    \"Comment\": \"Data e hora de abertura do caso\"\n",
        "  },\n",
        "  {\n",
        "    \"Name\": \"closed_dt\",\n",
        "    \"Type\": \"timestamp\",\n",
        "    \"Comment\": \"Data e hora de fechamento do caso\"\n",
        "  },\n",
        "  {\n",
        "    \"Name\": \"target_dt\",\n",
        "    \"Type\": \"timestamp\",\n",
        "    \"Comment\": \"Data e hora alvo do SLA\"\n",
        "  },\n",
        "  {\n",
        "    \"Name\": \"case_status\",\n",
        "    \"Type\": \"string\",\n",
        "    \"Comment\": \"Status do caso\"\n",
        "  },\n",
        "  {\n",
        "    \"Name\": \"ontime\",\n",
        "    \"Type\": \"string\",\n",
        "    \"Comment\": \"Indica se o caso foi resolvido dentro do tempo\"\n",
        "  },\n",
        "  {\n",
        "    \"Name\": \"closure_reason\",\n",
        "    \"Type\": \"string\",\n",
        "    \"Comment\": \"Razão para o fechamento do caso\"\n",
        "  },\n",
        "  {\n",
        "    \"Name\": \"case_title\",\n",
        "    \"Type\": \"string\",\n",
        "    \"Comment\": \"Título do caso\"\n",
        "  },\n",
        "  {\n",
        "    \"Name\": \"subject\",\n",
        "    \"Type\": \"string\",\n",
        "    \"Comment\": \"Assunto do caso\"\n",
        "  },\n",
        "  {\n",
        "    \"Name\": \"reason\",\n",
        "    \"Type\": \"string\",\n",
        "    \"Comment\": \"Razão do caso\"\n",
        "  },\n",
        "  {\n",
        "    \"Name\": \"neighborhood\",\n",
        "    \"Type\": \"string\",\n",
        "    \"Comment\": \"Bairro\"\n",
        "  },\n",
        "  {\n",
        "    \"Name\": \"location_street_name\",\n",
        "    \"Type\": \"string\",\n",
        "    \"Comment\": \"Nome da rua da localização\"\n",
        "  },\n",
        "  {\n",
        "    \"Name\": \"location_zipcode\",\n",
        "    \"Type\": \"integer\",\n",
        "    \"Comment\": \"CEP da localização\"\n",
        "  },\n",
        "  {\n",
        "    \"Name\": \"latitude\",\n",
        "    \"Type\": \"double\",\n",
        "    \"Comment\": \"Latitude da localização\"\n",
        "  },\n",
        "  {\n",
        "    \"Name\": \"longitude\",\n",
        "    \"Type\": \"double\",\n",
        "    \"Comment\": \"Longitude da localização\"\n",
        "  },\n",
        "  {\n",
        "    \"Name\": \"source\",\n",
        "    \"Type\": \"string\",\n",
        "    \"Comment\": \"Fonte do caso\"\n",
        "  },\n",
        "  {\n",
        "    \"Name\": \"delay_days\",\n",
        "    \"Type\": \"double\",\n",
        "    \"Comment\": \"Dias de atraso\"\n",
        "  }\n",
        "]"
      ],
      "metadata": {
        "id": "80mB0Wh5W_gR"
      },
      "execution_count": null,
      "outputs": []
    },
    {
      "cell_type": "code",
      "source": [],
      "metadata": {
        "id": "XiPD0JqaW1yq"
      },
      "execution_count": null,
      "outputs": []
    }
  ]
}